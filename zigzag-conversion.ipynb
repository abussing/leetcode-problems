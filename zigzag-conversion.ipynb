{
 "cells": [
  {
   "cell_type": "code",
   "execution_count": null,
   "metadata": {},
   "outputs": [],
   "source": [
    "The string \"PAYPALISHIRING\" is written in a zigzag pattern on a given number of rows like this: (you may want to display this pattern in a fixed font for better legibility)\n",
    "\n",
    "P   A   H   N\n",
    "A P L S I I G\n",
    "Y   I   R\n",
    "And then read line by line: \"PAHNAPLSIIGYIR\"\n",
    "\n",
    "Write the code that will take a string and make this conversion given a number of rows:"
   ]
  },
  {
   "cell_type": "code",
   "execution_count": null,
   "metadata": {},
   "outputs": [],
   "source": [
    "string convert(string s, int numRows):"
   ]
  },
  {
   "cell_type": "markdown",
   "metadata": {},
   "source": [
    "We will make a dictionary of lists like so: {0: [], 1: [], ...}\n",
    "\n",
    "Then we will go through s one element at a time and append it to the list with key 0, 1, ... etc. depending on which row it should be in the zigzag pattern. How will we know what row it should be in? Because say numRows=2, then the first character is row 0, second is row 1, third is row 0, fourth is row 1, etc. (zigzag)\n",
    "\n",
    "Then at the end we will simply append all these lists together list0 + list1 + ..."
   ]
  },
  {
   "cell_type": "code",
   "execution_count": null,
   "metadata": {},
   "outputs": [],
   "source": [
    "string convert(string s, int numRows):\n",
    "\n",
    "    # initialize our dictionary\n",
    "    ourdict = {}\n",
    "    for i in range(numRows):\n",
    "        ourdict[i] = []\n",
    "\n",
    "    # categorize each character of s by its row\n",
    "    countr = 0\n",
    "    addr = -1    \n",
    "    for char in s:\n",
    "\n",
    "        ourdict[countr].append(s)\n",
    "\n",
    "        if countr == 0 or countr == numRows-1:\n",
    "            addr *= 1\n",
    "        \n",
    "        countr += addr\n",
    "\n",
    "    \n",
    "    # now we will append the dictionaries\n",
    "    res = []\n",
    "    for keyz in ourdict.keys():\n",
    "        res += ourdict[keyz]\n",
    "\n",
    "    return \"\".join(res)"
   ]
  },
  {
   "cell_type": "code",
   "execution_count": null,
   "metadata": {},
   "outputs": [],
   "source": [
    "Solution().convert(\"PAYPALISHIRING\", 3)"
   ]
  },
  {
   "cell_type": "markdown",
   "metadata": {},
   "source": [
    "Notice a critical thing we did here is the \"\".join(list()) trick which converts a list into a string."
   ]
  }
 ],
 "metadata": {
  "kernelspec": {
   "display_name": "Python 3",
   "language": "python",
   "name": "python3"
  },
  "language_info": {
   "name": "python",
   "version": "2.7.5"
  }
 },
 "nbformat": 4,
 "nbformat_minor": 2
}
