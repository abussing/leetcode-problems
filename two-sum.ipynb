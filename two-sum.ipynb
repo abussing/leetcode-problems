{
 "cells": [
  {
   "cell_type": "markdown",
   "metadata": {},
   "source": [
    "## <font color='Blue'>Given an array of integers nums and an integer target, return indices of the two numbers such that they add up to target. You may assume that each input would have exactly one solution, and you may not use the same element twice. You can return the answer in any order.</font>"
   ]
  },
  {
   "cell_type": "code",
   "execution_count": 104,
   "metadata": {},
   "outputs": [],
   "source": [
    "from typing import Optional, List\n",
    "\n",
    "class Solution:\n",
    "    def twoSum(self, nums: List[int], target: int) -> List[int]:\n",
    "        pass"
   ]
  },
  {
   "cell_type": "markdown",
   "metadata": {},
   "source": [
    "We will start by popping out the 0th index and searching in what remains of the list for the complement. And so on..."
   ]
  },
  {
   "cell_type": "code",
   "execution_count": 99,
   "metadata": {},
   "outputs": [
    {
     "name": "stdout",
     "output_type": "stream",
     "text": [
      "[3, 5, 2, -1, 3, 8]\n",
      "5\n",
      "[5, 2, -1, 3, 8]\n"
     ]
    },
    {
     "data": {
      "text/plain": [
       "4"
      ]
     },
     "execution_count": 99,
     "metadata": {},
     "output_type": "execute_result"
    }
   ],
   "source": [
    "nums = [3,5,2,-1,3,8]\n",
    "\n",
    "# since we are popping out elements as we iterate through nums, we will need to make adjustments \n",
    "\n",
    "# original index nums\n",
    "print(nums)\n",
    "\n",
    "print(nums.index(8))\n",
    "\n",
    "# pop the 0th number\n",
    "nums.pop(0)\n",
    "print(nums)\n",
    "\n",
    "# look how we need to adjust the index from popped nums\n",
    "# it is 1 short, even though we popped the 0th index\n",
    "nums.index(8)\n"
   ]
  },
  {
   "cell_type": "markdown",
   "metadata": {},
   "source": [
    "Notice we will always do pop(0) because we always want to pop the first element."
   ]
  },
  {
   "cell_type": "code",
   "execution_count": 100,
   "metadata": {},
   "outputs": [],
   "source": [
    "class Solution:\n",
    "    def twoSum(self, nums: List[int], target: int) -> List[int]:\n",
    "        \n",
    "        for i in range(len(nums)-1):\n",
    "\n",
    "            desired = target - nums.pop(0)\n",
    "\n",
    "            if desired in nums:\n",
    "\n",
    "                return [i, nums.index(desired)+i+1]\n",
    "            \n",
    "        return list()"
   ]
  },
  {
   "cell_type": "code",
   "execution_count": 101,
   "metadata": {},
   "outputs": [
    {
     "name": "stdout",
     "output_type": "stream",
     "text": [
      "[0, 4]\n",
      "[2, 4]\n"
     ]
    }
   ],
   "source": [
    "what = Solution().twoSum(nums=[3,5,2,-1,3,8], target=6)\n",
    "\n",
    "print(what)\n",
    "\n",
    "what = Solution().twoSum(nums=[-1,-2,-3,-4,-5], target=-8)\n",
    "\n",
    "print(what)"
   ]
  },
  {
   "cell_type": "markdown",
   "metadata": {},
   "source": [
    "It turns out this is rather slow, so we will try the dictionary way.\n",
    "\n",
    "The dictionary way has the values as the keys of the dictionary, and the indices as the values of the dictionary for some reason. Maybe it's faster to search that way."
   ]
  },
  {
   "cell_type": "code",
   "execution_count": 102,
   "metadata": {},
   "outputs": [],
   "source": [
    "class Solution:\n",
    "    def twoSum(self, nums: List[int], target: int) -> List[int]:\n",
    "        \n",
    "        ourdict = {}\n",
    "\n",
    "        for i in range(len(nums)):\n",
    "\n",
    "            desired = target - nums[i]\n",
    "\n",
    "            if desired in ourdict:\n",
    "\n",
    "                return [i, ourdict[desired]]\n",
    "            \n",
    "            else:\n",
    "\n",
    "                ourdict[nums[i]] = i\n",
    "            \n",
    "        return list()"
   ]
  },
  {
   "cell_type": "code",
   "execution_count": 103,
   "metadata": {},
   "outputs": [
    {
     "name": "stdout",
     "output_type": "stream",
     "text": [
      "[4, 0]\n",
      "[4, 2]\n"
     ]
    }
   ],
   "source": [
    "what = Solution().twoSum(nums=[3,5,2,-1,3,8], target=6)\n",
    "\n",
    "print(what)\n",
    "\n",
    "what = Solution().twoSum(nums=[-1,-2,-3,-4,-5], target=-8)\n",
    "\n",
    "print(what)"
   ]
  }
 ],
 "metadata": {
  "kernelspec": {
   "display_name": "Python 3",
   "language": "python",
   "name": "python3"
  },
  "language_info": {
   "codemirror_mode": {
    "name": "ipython",
    "version": 3
   },
   "file_extension": ".py",
   "mimetype": "text/x-python",
   "name": "python",
   "nbconvert_exporter": "python",
   "pygments_lexer": "ipython3",
   "version": "3.7.6"
  }
 },
 "nbformat": 4,
 "nbformat_minor": 2
}
