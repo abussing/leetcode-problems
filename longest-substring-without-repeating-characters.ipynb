{
 "cells": [
  {
   "cell_type": "markdown",
   "metadata": {},
   "source": [
    "## <font color='Blue'>Given a string s, find the length of the longest substring without repeating characters. </font>"
   ]
  },
  {
   "cell_type": "code",
   "execution_count": 2,
   "metadata": {},
   "outputs": [
    {
     "ename": "SyntaxError",
     "evalue": "unexpected EOF while parsing (<ipython-input-2-e1ecb05dc3d8>, line 2)",
     "output_type": "error",
     "traceback": [
      "\u001b[1;36m  File \u001b[1;32m\"<ipython-input-2-e1ecb05dc3d8>\"\u001b[1;36m, line \u001b[1;32m2\u001b[0m\n\u001b[1;33m    def lengthOfLongestSubstring(self, s: str) -> int:\u001b[0m\n\u001b[1;37m                                                      ^\u001b[0m\n\u001b[1;31mSyntaxError\u001b[0m\u001b[1;31m:\u001b[0m unexpected EOF while parsing\n"
     ]
    }
   ],
   "source": [
    "class Solution:\n",
    "    def lengthOfLongestSubstring(self, s: str) -> int:"
   ]
  },
  {
   "cell_type": "markdown",
   "metadata": {},
   "source": [
    "We will do a 2-pointer solution. Left pointer and right pointer. Start left pointer at 0 and right pointer at 1. Move right pointer, updating our dictionary, and increasing the length tally, until we encounter a characer that is already in our dictionary. At that point move left pointer to the character in the string AFTER the repeat character that was just found, and update the location value for that repeat character accordingly. Also, notice that in \"abcacdba\" when rightpointer encounters the second \"a\", and we move from the first \"a\" to the first \"b\", we need to decrease the current length by 1. Same for when we go from \"bcac\" to \"ac\", we need to decrease current length by 2, and then keep on trucking with rightpointer."
   ]
  },
  {
   "cell_type": "code",
   "execution_count": 4,
   "metadata": {},
   "outputs": [],
   "source": [
    "class Solution:\n",
    "    def lengthOfLongestSubstring(self, s: str) -> int:\n",
    "\n",
    "        if len(s) < 2:\n",
    "            return len(s)\n",
    "        \n",
    "        leftptr = 0\n",
    "        rightptr = 1\n",
    "\n",
    "        ourdict = {s[leftptr]: leftptr}\n",
    "        currentlen = 1\n",
    "        maxlen = currentlen\n",
    "\n",
    "        while rightptr < len(s):\n",
    "            char = s[rightptr]\n",
    "            if char in ourdict and ourdict[char] >= leftptr:\n",
    "                currentlen -= ourdict[char] - leftptr\n",
    "                leftptr = ourdict[char] + 1\n",
    "            else:\n",
    "                currentlen += 1\n",
    "\n",
    "            maxlen = max(currentlen, maxlen)\n",
    "            \n",
    "            ourdict[char] = rightptr\n",
    "            \n",
    "            rightptr += 1\n",
    "\n",
    "        return maxlen"
   ]
  },
  {
   "cell_type": "code",
   "execution_count": 5,
   "metadata": {},
   "outputs": [
    {
     "name": "stdout",
     "output_type": "stream",
     "text": [
      "4\n"
     ]
    }
   ],
   "source": [
    "what = Solution().lengthOfLongestSubstring(s=\"abcacdba\")\n",
    "\n",
    "\n",
    "print(what)"
   ]
  }
 ],
 "metadata": {
  "kernelspec": {
   "display_name": "base",
   "language": "python",
   "name": "python3"
  },
  "language_info": {
   "codemirror_mode": {
    "name": "ipython",
    "version": 3
   },
   "file_extension": ".py",
   "mimetype": "text/x-python",
   "name": "python",
   "nbconvert_exporter": "python",
   "pygments_lexer": "ipython3",
   "version": "3.7.6"
  }
 },
 "nbformat": 4,
 "nbformat_minor": 2
}
